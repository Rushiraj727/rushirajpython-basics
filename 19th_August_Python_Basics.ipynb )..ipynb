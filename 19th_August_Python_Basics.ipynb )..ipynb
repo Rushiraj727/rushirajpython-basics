{
 "cells": [
  {
   "cell_type": "markdown",
   "id": "196faca0-9567-4fec-8681-5a08c1530b02",
   "metadata": {},
   "source": [
    "1. Declare two variables, `x` and `y`, and assign them integer values. Swap the\n",
    "values of these variables without using any temporary variable."
   ]
  },
  {
   "cell_type": "code",
   "execution_count": 2,
   "id": "7bb687d4-e7b8-49ba-b5c3-58b353b1fac0",
   "metadata": {},
   "outputs": [
    {
     "name": "stdout",
     "output_type": "stream",
     "text": [
      "After swapping:\n",
      "x = 20\n",
      "y = 10\n"
     ]
    }
   ],
   "source": [
    "x = 10\n",
    "y = 20\n",
    "\n",
    "x = x + y #Now X=30\n",
    "y = x - y #Now y=20\n",
    "x = x - y #Now x=10\n",
    "\n",
    "print(\"After swapping:\")\n",
    "print(\"x =\", x)\n",
    "print(\"y =\", y)\n",
    "#Code for swap x and y and assign values and without using any temporary variable"
   ]
  },
  {
   "cell_type": "markdown",
   "id": "f30ae27e-34e8-4f4c-ba17-19b6fec48fc3",
   "metadata": {},
   "source": [
    "2. Create a program that calculates the area of a rectangle. Take the length and\n",
    "width as inputs from the user and store them in variables. Calculate and\n",
    "display the area."
   ]
  },
  {
   "cell_type": "code",
   "execution_count": 4,
   "id": "163c519c-e050-452b-ab9c-4209b42758a8",
   "metadata": {},
   "outputs": [
    {
     "name": "stdin",
     "output_type": "stream",
     "text": [
      "Enter the length of the rectangle:  12\n",
      "Enter the width of the rectangle:  24\n"
     ]
    },
    {
     "name": "stdout",
     "output_type": "stream",
     "text": [
      "The area of the rectangle is: 288.0\n"
     ]
    }
   ],
   "source": [
    "# Taking input \n",
    "l = float(input(\"Enter the length of the rectangle: \"))\n",
    "w = float(input(\"Enter the width of the rectangle: \"))\n",
    "\n",
    "# Calculating the area\n",
    "area = l * w  # Calculating the area by multiplying length and width\n",
    "\n",
    "# Displaying the calculated area\n",
    "print(\"The area of the rectangle is:\", area)\n"
   ]
  },
  {
   "cell_type": "markdown",
   "id": "b0f3e2aa-1598-48b9-b644-b7dc6717127e",
   "metadata": {},
   "source": [
    "3> Write a Python program that converts temperatures from Celsius to\n",
    "Fahrenheit. Take the temperature in Celsius as input, store it in a variable,\n",
    "convert it to Fahrenheit, and display the result."
   ]
  },
  {
   "cell_type": "code",
   "execution_count": 5,
   "id": "910004a5-794a-4e90-a94b-19bd3546f2b8",
   "metadata": {},
   "outputs": [
    {
     "name": "stdin",
     "output_type": "stream",
     "text": [
      "Enter temperature in Celsius:  35\n"
     ]
    },
    {
     "name": "stdout",
     "output_type": "stream",
     "text": [
      "35.0 Celsius is equal to 95.0 Fahrenheit\n"
     ]
    }
   ],
   "source": [
    "# Get the temperature in Celsius from the user\n",
    "celsius = float(input(\"Enter temperature in Celsius: \"))\n",
    "\n",
    "# Convert Celsius to Fahrenheit\n",
    "fahrenheit = (celsius * 9/5) + 32\n",
    "\n",
    "# Display the result\n",
    "print(f\"{celsius} Celsius is equal to {fahrenheit} Fahrenheit\")\n"
   ]
  },
  {
   "cell_type": "code",
   "execution_count": null,
   "id": "aecfb648-789f-49f0-856f-47fbfd53bbc8",
   "metadata": {},
   "outputs": [],
   "source": [
    "\n"
   ]
  },
  {
   "cell_type": "markdown",
   "id": "31f2dd39-cef8-42e6-9758-b989aa3df114",
   "metadata": {},
   "source": [
    "TOPIC: String Based Questions"
   ]
  },
  {
   "cell_type": "markdown",
   "id": "c1e292a1-1f50-4d3f-8e45-cf4c5e4da9bd",
   "metadata": {},
   "source": [
    "1> Write a Python program that takes a string as input and prints the length of\n",
    "the string."
   ]
  },
  {
   "cell_type": "code",
   "execution_count": 6,
   "id": "94f632dc-8abc-462e-8713-9339e7a57779",
   "metadata": {},
   "outputs": [
    {
     "name": "stdin",
     "output_type": "stream",
     "text": [
      "Enter a string:  Rushiraj\n"
     ]
    },
    {
     "name": "stdout",
     "output_type": "stream",
     "text": [
      "Length of the string: 8\n"
     ]
    }
   ],
   "source": [
    "#s-1 Taking input from the user\n",
    "input_string = input(\"Enter a string: \")\n",
    "\n",
    "#s-2 Calculating and printing the length of the string\n",
    "string_length = len(input_string)\n",
    "#s-3 print\n",
    "print(\"Length of the string:\", string_length)\n"
   ]
  },
  {
   "cell_type": "markdown",
   "id": "a35b1044-c4ef-42ef-a9db-964fa97089f1",
   "metadata": {},
   "source": [
    "2> Create a program that takes a sentence from the user and counts the number\n",
    "of vowels (a, e, i, o, u) in the string."
   ]
  },
  {
   "cell_type": "code",
   "execution_count": 8,
   "id": "d9f1d923-5906-40dd-9908-6a577b94fd83",
   "metadata": {
    "tags": []
   },
   "outputs": [
    {
     "name": "stdin",
     "output_type": "stream",
     "text": [
      "Enter a sentence:  Hello PW Skills How are you?\n"
     ]
    },
    {
     "name": "stdout",
     "output_type": "stream",
     "text": [
      "Number of vowels: 8\n"
     ]
    }
   ],
   "source": [
    "### S-1 Get input from the user\n",
    "sentence = input(\"Enter a sentence: \")\n",
    "\n",
    "# S-2 Initialize a variable to count the vowels\n",
    "vowel_count = 0\n",
    "\n",
    "# S-3 Iterate through each character in the sentence\n",
    "for char in sentence:\n",
    "    # S-4 Convert the character to lowercase to handle both uppercase and lowercase vowels\n",
    "    char_lower = char.lower()\n",
    "\n",
    "    # S-5 Check if the character is a vowel (a, e, i, o, u)\n",
    "    if char_lower in \"aeiou\":\n",
    "        # S-6 If the character is a vowel, increment the vowel_count variable\n",
    "        vowel_count += 1\n",
    "\n",
    "# S-7 print the result\n",
    "print(\"Number of vowels:\", vowel_count)"
   ]
  },
  {
   "cell_type": "markdown",
   "id": "9f1a96d1-5da1-446a-9eab-d59f0f7c7832",
   "metadata": {},
   "source": [
    "3> Given a string, reverse the order of characters using string slicing and print\n",
    "the reversed string."
   ]
  },
  {
   "cell_type": "code",
   "execution_count": 13,
   "id": "4b639a30-4a70-4a53-b442-df342df4bd9f",
   "metadata": {},
   "outputs": [
    {
     "name": "stdin",
     "output_type": "stream",
     "text": [
      "Enter a string:  clotriver\n"
     ]
    },
    {
     "name": "stdout",
     "output_type": "stream",
     "text": [
      "Reversed string: revirtolc\n"
     ]
    }
   ],
   "source": [
    "# Step 1: Get the input string from the user\n",
    "def reverse_string(input_string):\n",
    "    reversed_string = input_string[::-1] # Here, we start from the end of the string, move backward with step -1, and stop at the beginning.\n",
    "    return reversed_string\n",
    "\n",
    "input_string = input(\"Enter a string: \")\n",
    "reversed_string = reverse_string(input_string)\n",
    "# print the value\n",
    "print(\"Reversed string:\", reversed_string)\n"
   ]
  },
  {
   "cell_type": "markdown",
   "id": "5f576da5-92a2-4f8a-bbdc-e3fc81412941",
   "metadata": {},
   "source": [
    "4> Write a program that takes a string as input and checks if it is a palindrome"
   ]
  },
  {
   "cell_type": "code",
   "execution_count": 14,
   "id": "c14be35b-1bde-403d-b7c0-11372a29c460",
   "metadata": {},
   "outputs": [
    {
     "name": "stdin",
     "output_type": "stream",
     "text": [
      "Enter a string:  hello\n"
     ]
    },
    {
     "name": "stdout",
     "output_type": "stream",
     "text": [
      "It's not a palindrome.\n"
     ]
    }
   ],
   "source": [
    "def is_palindrome(s):\n",
    "    s = s.lower()  # Convert to lowercase to make the comparison case-insensitive\n",
    "    s = ''.join(filter(str.isalnum, s))  # Remove non-alphanumeric characters\n",
    "    return s == s[::-1]\n",
    "\n",
    "# Get input \n",
    "input_string = input(\"Enter a string: \")\n",
    "# Compare the cleaned string with its reverse to check for palindrome\n",
    "if is_palindrome(input_string):\n",
    "    print(\"It's a palindrome!\")\n",
    "else:\n",
    "    print(\"It's not a palindrome.\")\n"
   ]
  },
  {
   "cell_type": "markdown",
   "id": "95a91a30-4b62-4baf-a16d-34be6e9a8aca",
   "metadata": {},
   "source": [
    "5> Create a program that takes a string as input and removes all the spaces from\n",
    "it. Print the modified string without spaces."
   ]
  },
  {
   "cell_type": "code",
   "execution_count": 16,
   "id": "b49e9173-c68d-4c08-a7a9-7020b3350cb4",
   "metadata": {},
   "outputs": [
    {
     "name": "stdin",
     "output_type": "stream",
     "text": [
      "Enter a string:    hiii i\n"
     ]
    },
    {
     "name": "stdout",
     "output_type": "stream",
     "text": [
      "Modified string without spaces: hiiii\n"
     ]
    }
   ],
   "source": [
    "#Take input from the user\n",
    "input_string = input(\"Enter a string: \")\n",
    "\n",
    "#Initialize an empty string to store the modified string without spaces\n",
    "modified_string = \"\"\n",
    "\n",
    "#Iterate through each character in the input string\n",
    "for char in input_string:\n",
    "    # Check if the character is not a space\n",
    "    if char != \" \":\n",
    "        # If not a space, append the character to the modified string\n",
    "        modified_string += char\n",
    "\n",
    "#Print the modified string\n",
    "print(\"Modified string without spaces:\", modified_string)"
   ]
  },
  {
   "cell_type": "code",
   "execution_count": null,
   "id": "81111589-448c-4f56-9228-ee2000bf6f49",
   "metadata": {},
   "outputs": [],
   "source": []
  }
 ],
 "metadata": {
  "kernelspec": {
   "display_name": "Python 3 (ipykernel)",
   "language": "python",
   "name": "python3"
  },
  "language_info": {
   "codemirror_mode": {
    "name": "ipython",
    "version": 3
   },
   "file_extension": ".py",
   "mimetype": "text/x-python",
   "name": "python",
   "nbconvert_exporter": "python",
   "pygments_lexer": "ipython3",
   "version": "3.10.8"
  }
 },
 "nbformat": 4,
 "nbformat_minor": 5
}
